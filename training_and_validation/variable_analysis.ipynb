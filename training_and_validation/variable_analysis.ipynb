{
 "cells": [
  {
   "cell_type": "code",
   "execution_count": null,
   "metadata": {},
   "outputs": [],
   "source": []
  }
 ],
 "metadata": {
  "kernelspec": {
   "display_name": "Python 3.8.3 ('base')",
   "language": "python",
   "name": "python3"
  },
  "language_info": {
   "name": "python",
   "version": "3.8.3"
  },
  "orig_nbformat": 4,
  "vscode": {
   "interpreter": {
    "hash": "dcd01d9de4547d90c7043f11bb3687abdbf3635c3b71453b4e05b0c78c570c27"
   }
  }
 },
 "nbformat": 4,
 "nbformat_minor": 2
}
